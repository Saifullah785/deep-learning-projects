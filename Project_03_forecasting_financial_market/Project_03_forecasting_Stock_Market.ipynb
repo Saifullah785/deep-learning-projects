{
 "cells": [
  {
   "cell_type": "markdown",
   "metadata": {
    "id": "ZidRpbc7sCOq"
   },
   "source": [
    "# **Stock Market Forecasting with ARIMA, SARIMA , SARIMAX | A complete Project A-Z**"
   ]
  },
  {
   "cell_type": "markdown",
   "metadata": {
    "id": "TjR1bgHv370G"
   },
   "source": [
    "#**Stock Market Data scraping in Python**\n"
   ]
  },
  {
   "cell_type": "code",
   "execution_count": 24,
   "metadata": {
    "id": "xES5ffVw3rQM"
   },
   "outputs": [],
   "source": [
    "# import Libraries\n",
    "import pandas as pd, numpy as np, matplotlib.pyplot as plt, seaborn as sns\n",
    "import yfinance as yf\n",
    "import datetime as dt\n",
    "from datetime import datetime, timedelta\n",
    "import plotly.graph_objects as go\n",
    "import plotly.express as px\n",
    "#\n",
    "# Import time series analysis tools from statsmodels\n",
    "from statsmodels.tsa.stattools import adfuller\n",
    "from statsmodels.tsa.seasonal import seasonal_decompose\n",
    "from statsmodels.tsa.statespace.sarimax import SARIMAX\n",
    "from statsmodels.tsa.arima.model import ARIMA"
   ]
  },
  {
   "cell_type": "code",
   "execution_count": 25,
   "metadata": {
    "colab": {
     "base_uri": "https://localhost:8080/"
    },
    "id": "im6-E4iZ5yM0",
    "outputId": "ac610485-397a-4b2a-ffd4-0549c6e907f1"
   },
   "outputs": [
    {
     "data": {
      "text/plain": [
       "datetime.date(2025, 7, 11)"
      ]
     },
     "execution_count": 25,
     "metadata": {},
     "output_type": "execute_result"
    }
   ],
   "source": [
    "# Get today's date\n",
    "dt.date.today()"
   ]
  },
  {
   "cell_type": "code",
   "execution_count": 26,
   "metadata": {
    "colab": {
     "base_uri": "https://localhost:8080/"
    },
    "id": "s4GrvStd5Wn8",
    "outputId": "d57cf427-d564-4e03-d2db-11b7657cf110"
   },
   "outputs": [
    {
     "name": "stdout",
     "output_type": "stream",
     "text": [
      "Your data will be between these dates: 2024-07-11 2025-07-11\n"
     ]
    }
   ],
   "source": [
    "# define the dates to fetch data\n",
    "today = dt.date.today()\n",
    "d1 = today.strftime(\"%Y-%m-%d\")\n",
    "end_date = d1\n",
    "d2 = dt.date.today() - timedelta(days=365)\n",
    "d2 = d2.strftime(\"%Y-%m-%d\")\n",
    "start_date = d2\n",
    "# Print the date range for the data\n",
    "print(\"Your data will be between these dates:\",start_date, end_date)"
   ]
  },
  {
   "cell_type": "code",
   "execution_count": 27,
   "metadata": {
    "colab": {
     "base_uri": "https://localhost:8080/",
     "height": 305
    },
    "id": "55zVBUGp69wn",
    "outputId": "5798a1b6-b409-4d47-97e1-2706ef20e106"
   },
   "outputs": [
    {
     "data": {
      "text/html": [
       "<div>\n",
       "<style scoped>\n",
       "    .dataframe tbody tr th:only-of-type {\n",
       "        vertical-align: middle;\n",
       "    }\n",
       "\n",
       "    .dataframe tbody tr th {\n",
       "        vertical-align: top;\n",
       "    }\n",
       "\n",
       "    .dataframe thead tr th {\n",
       "        text-align: left;\n",
       "    }\n",
       "\n",
       "    .dataframe thead tr:last-of-type th {\n",
       "        text-align: right;\n",
       "    }\n",
       "</style>\n",
       "<table border=\"1\" class=\"dataframe\">\n",
       "  <thead>\n",
       "    <tr>\n",
       "      <th>Price</th>\n",
       "      <th>Close</th>\n",
       "      <th>High</th>\n",
       "      <th>Low</th>\n",
       "      <th>Open</th>\n",
       "      <th>Volume</th>\n",
       "    </tr>\n",
       "    <tr>\n",
       "      <th>Ticker</th>\n",
       "      <th>GOOGL</th>\n",
       "      <th>GOOGL</th>\n",
       "      <th>GOOGL</th>\n",
       "      <th>GOOGL</th>\n",
       "      <th>GOOGL</th>\n",
       "    </tr>\n",
       "    <tr>\n",
       "      <th>Date</th>\n",
       "      <th></th>\n",
       "      <th></th>\n",
       "      <th></th>\n",
       "      <th></th>\n",
       "      <th></th>\n",
       "    </tr>\n",
       "  </thead>\n",
       "  <tbody>\n",
       "    <tr>\n",
       "      <th>2024-07-11</th>\n",
       "      <td>184.675415</td>\n",
       "      <td>189.939906</td>\n",
       "      <td>184.187772</td>\n",
       "      <td>188.934781</td>\n",
       "      <td>25625800</td>\n",
       "    </tr>\n",
       "    <tr>\n",
       "      <th>2024-07-12</th>\n",
       "      <td>184.177841</td>\n",
       "      <td>186.208000</td>\n",
       "      <td>183.600635</td>\n",
       "      <td>184.187788</td>\n",
       "      <td>22898400</td>\n",
       "    </tr>\n",
       "    <tr>\n",
       "      <th>2024-07-15</th>\n",
       "      <td>185.630768</td>\n",
       "      <td>187.332531</td>\n",
       "      <td>184.028529</td>\n",
       "      <td>184.028529</td>\n",
       "      <td>16474000</td>\n",
       "    </tr>\n",
       "    <tr>\n",
       "      <th>2024-07-16</th>\n",
       "      <td>183.033356</td>\n",
       "      <td>187.770403</td>\n",
       "      <td>182.486004</td>\n",
       "      <td>186.456775</td>\n",
       "      <td>18290700</td>\n",
       "    </tr>\n",
       "    <tr>\n",
       "      <th>2024-07-17</th>\n",
       "      <td>180.147339</td>\n",
       "      <td>182.665141</td>\n",
       "      <td>179.032728</td>\n",
       "      <td>182.087935</td>\n",
       "      <td>20734100</td>\n",
       "    </tr>\n",
       "  </tbody>\n",
       "</table>\n",
       "</div>"
      ],
      "text/plain": [
       "Price            Close        High         Low        Open    Volume\n",
       "Ticker           GOOGL       GOOGL       GOOGL       GOOGL     GOOGL\n",
       "Date                                                                \n",
       "2024-07-11  184.675415  189.939906  184.187772  188.934781  25625800\n",
       "2024-07-12  184.177841  186.208000  183.600635  184.187788  22898400\n",
       "2024-07-15  185.630768  187.332531  184.028529  184.028529  16474000\n",
       "2024-07-16  183.033356  187.770403  182.486004  186.456775  18290700\n",
       "2024-07-17  180.147339  182.665141  179.032728  182.087935  20734100"
      ]
     },
     "metadata": {},
     "output_type": "display_data"
    }
   ],
   "source": [
    "# define the ticker symbol for the stock\n",
    "ticker = 'GOOGL' #DX-Y.NYB\n",
    "\n",
    "# Download historical stock data using yfinance\n",
    "df = yf.download(ticker, start=start_date, end=end_date, progress=False)\n",
    "# Display the first few rows of the DataFrame\n",
    "display(df.head())"
   ]
  },
  {
   "cell_type": "code",
   "execution_count": 28,
   "metadata": {
    "colab": {
     "base_uri": "https://localhost:8080/"
    },
    "id": "o66EmXFm8FnF",
    "outputId": "f540d1b2-8be1-4316-948c-3b9173f1c13b"
   },
   "outputs": [
    {
     "name": "stdout",
     "output_type": "stream",
     "text": [
      "<class 'pandas.core.frame.DataFrame'>\n",
      "DatetimeIndex: 250 entries, 2024-07-11 to 2025-07-10\n",
      "Data columns (total 5 columns):\n",
      " #   Column           Non-Null Count  Dtype  \n",
      "---  ------           --------------  -----  \n",
      " 0   (Close, GOOGL)   250 non-null    float64\n",
      " 1   (High, GOOGL)    250 non-null    float64\n",
      " 2   (Low, GOOGL)     250 non-null    float64\n",
      " 3   (Open, GOOGL)    250 non-null    float64\n",
      " 4   (Volume, GOOGL)  250 non-null    int64  \n",
      "dtypes: float64(4), int64(1)\n",
      "memory usage: 11.7 KB\n"
     ]
    }
   ],
   "source": [
    "# Display information about the DataFrame, including data types and non-null values\n",
    "df.info()"
   ]
  },
  {
   "cell_type": "code",
   "execution_count": 29,
   "metadata": {
    "id": "gYW1Sts1Li_s"
   },
   "outputs": [],
   "source": [
    "# # Insert the Date index as a new column (commented out)\n",
    "# df.insert(0, 'Date', df.index, True)"
   ]
  },
  {
   "cell_type": "code",
   "execution_count": 30,
   "metadata": {
    "id": "iT3C4GabMvH9"
   },
   "outputs": [],
   "source": [
    "# Add the Date index as a new column\n",
    "df['Date'] = df.index\n",
    "# Reset the index to a default integer index and drop the old index\n",
    "df.reset_index(drop=True, inplace=True)"
   ]
  },
  {
   "cell_type": "code",
   "execution_count": 31,
   "metadata": {
    "colab": {
     "base_uri": "https://localhost:8080/"
    },
    "id": "9YhRx-FQLsdw",
    "outputId": "226892cb-95d2-44cf-a165-b18c352ee523"
   },
   "outputs": [
    {
     "name": "stdout",
     "output_type": "stream",
     "text": [
      "<class 'pandas.core.frame.DataFrame'>\n",
      "RangeIndex: 250 entries, 0 to 249\n",
      "Data columns (total 6 columns):\n",
      " #   Column           Non-Null Count  Dtype         \n",
      "---  ------           --------------  -----         \n",
      " 0   (Close, GOOGL)   250 non-null    float64       \n",
      " 1   (High, GOOGL)    250 non-null    float64       \n",
      " 2   (Low, GOOGL)     250 non-null    float64       \n",
      " 3   (Open, GOOGL)    250 non-null    float64       \n",
      " 4   (Volume, GOOGL)  250 non-null    int64         \n",
      " 5   (Date, )         250 non-null    datetime64[ns]\n",
      "dtypes: datetime64[ns](1), float64(4), int64(1)\n",
      "memory usage: 11.8 KB\n"
     ]
    }
   ],
   "source": [
    "# Display information about the DataFrame after adding the Date column and resetting the index\n",
    "df.info()"
   ]
  },
  {
   "cell_type": "code",
   "execution_count": 32,
   "metadata": {
    "colab": {
     "base_uri": "https://localhost:8080/",
     "height": 237
    },
    "id": "-2_wz2goM65b",
    "outputId": "7cdd6c48-ff4f-4db6-930d-c2ca90b87d98"
   },
   "outputs": [
    {
     "data": {
      "text/html": [
       "<div>\n",
       "<style scoped>\n",
       "    .dataframe tbody tr th:only-of-type {\n",
       "        vertical-align: middle;\n",
       "    }\n",
       "\n",
       "    .dataframe tbody tr th {\n",
       "        vertical-align: top;\n",
       "    }\n",
       "\n",
       "    .dataframe thead tr th {\n",
       "        text-align: left;\n",
       "    }\n",
       "</style>\n",
       "<table border=\"1\" class=\"dataframe\">\n",
       "  <thead>\n",
       "    <tr>\n",
       "      <th>Price</th>\n",
       "      <th>Close</th>\n",
       "      <th>High</th>\n",
       "      <th>Low</th>\n",
       "      <th>Open</th>\n",
       "      <th>Volume</th>\n",
       "      <th>Date</th>\n",
       "    </tr>\n",
       "    <tr>\n",
       "      <th>Ticker</th>\n",
       "      <th>GOOGL</th>\n",
       "      <th>GOOGL</th>\n",
       "      <th>GOOGL</th>\n",
       "      <th>GOOGL</th>\n",
       "      <th>GOOGL</th>\n",
       "      <th></th>\n",
       "    </tr>\n",
       "  </thead>\n",
       "  <tbody>\n",
       "    <tr>\n",
       "      <th>0</th>\n",
       "      <td>184.675415</td>\n",
       "      <td>189.939906</td>\n",
       "      <td>184.187772</td>\n",
       "      <td>188.934781</td>\n",
       "      <td>25625800</td>\n",
       "      <td>2024-07-11</td>\n",
       "    </tr>\n",
       "    <tr>\n",
       "      <th>1</th>\n",
       "      <td>184.177841</td>\n",
       "      <td>186.208000</td>\n",
       "      <td>183.600635</td>\n",
       "      <td>184.187788</td>\n",
       "      <td>22898400</td>\n",
       "      <td>2024-07-12</td>\n",
       "    </tr>\n",
       "    <tr>\n",
       "      <th>2</th>\n",
       "      <td>185.630768</td>\n",
       "      <td>187.332531</td>\n",
       "      <td>184.028529</td>\n",
       "      <td>184.028529</td>\n",
       "      <td>16474000</td>\n",
       "      <td>2024-07-15</td>\n",
       "    </tr>\n",
       "    <tr>\n",
       "      <th>3</th>\n",
       "      <td>183.033356</td>\n",
       "      <td>187.770403</td>\n",
       "      <td>182.486004</td>\n",
       "      <td>186.456775</td>\n",
       "      <td>18290700</td>\n",
       "      <td>2024-07-16</td>\n",
       "    </tr>\n",
       "    <tr>\n",
       "      <th>4</th>\n",
       "      <td>180.147339</td>\n",
       "      <td>182.665141</td>\n",
       "      <td>179.032728</td>\n",
       "      <td>182.087935</td>\n",
       "      <td>20734100</td>\n",
       "      <td>2024-07-17</td>\n",
       "    </tr>\n",
       "  </tbody>\n",
       "</table>\n",
       "</div>"
      ],
      "text/plain": [
       "Price        Close        High         Low        Open    Volume       Date\n",
       "Ticker       GOOGL       GOOGL       GOOGL       GOOGL     GOOGL           \n",
       "0       184.675415  189.939906  184.187772  188.934781  25625800 2024-07-11\n",
       "1       184.177841  186.208000  183.600635  184.187788  22898400 2024-07-12\n",
       "2       185.630768  187.332531  184.028529  184.028529  16474000 2024-07-15\n",
       "3       183.033356  187.770403  182.486004  186.456775  18290700 2024-07-16\n",
       "4       180.147339  182.665141  179.032728  182.087935  20734100 2024-07-17"
      ]
     },
     "metadata": {},
     "output_type": "display_data"
    }
   ],
   "source": [
    "# Display the first few rows of the DataFrame after modifications\n",
    "display(df.head())"
   ]
  },
  {
   "cell_type": "code",
   "execution_count": 33,
   "metadata": {
    "colab": {
     "base_uri": "https://localhost:8080/",
     "height": 145
    },
    "id": "ZmnjpjzeNEVj",
    "outputId": "a9fb8539-d1c1-495a-b633-148e9a6a4e5a"
   },
   "outputs": [
    {
     "data": {
      "text/plain": [
       "MultiIndex([( 'Close', 'GOOGL'),\n",
       "            (  'High', 'GOOGL'),\n",
       "            (   'Low', 'GOOGL'),\n",
       "            (  'Open', 'GOOGL'),\n",
       "            ('Volume', 'GOOGL'),\n",
       "            (  'Date',      '')],\n",
       "           names=['Price', 'Ticker'])"
      ]
     },
     "metadata": {},
     "output_type": "display_data"
    }
   ],
   "source": [
    "# Display the column names of the DataFrame\n",
    "display(df.columns)"
   ]
  },
  {
   "cell_type": "code",
   "execution_count": 34,
   "metadata": {
    "id": "lnre2NDvM99T"
   },
   "outputs": [],
   "source": [
    "# Flatten the MultiIndex columns into single-level column names\n",
    "df.columns = [''.join(col).strip() for col in df.columns.values]"
   ]
  },
  {
   "cell_type": "code",
   "execution_count": 35,
   "metadata": {
    "colab": {
     "base_uri": "https://localhost:8080/"
    },
    "id": "bDgsvyta8iGF",
    "outputId": "df7a83b3-4bd6-4aae-943b-03adcfbd672a"
   },
   "outputs": [
    {
     "name": "stdout",
     "output_type": "stream",
     "text": [
      "<class 'pandas.core.frame.DataFrame'>\n",
      "RangeIndex: 250 entries, 0 to 249\n",
      "Data columns (total 6 columns):\n",
      " #   Column       Non-Null Count  Dtype         \n",
      "---  ------       --------------  -----         \n",
      " 0   CloseGOOGL   250 non-null    float64       \n",
      " 1   HighGOOGL    250 non-null    float64       \n",
      " 2   LowGOOGL     250 non-null    float64       \n",
      " 3   OpenGOOGL    250 non-null    float64       \n",
      " 4   VolumeGOOGL  250 non-null    int64         \n",
      " 5   Date         250 non-null    datetime64[ns]\n",
      "dtypes: datetime64[ns](1), float64(4), int64(1)\n",
      "memory usage: 11.8 KB\n"
     ]
    }
   ],
   "source": [
    "# Display information about the DataFrame after flattening column names\n",
    "df.info()"
   ]
  },
  {
   "cell_type": "code",
   "execution_count": 36,
   "metadata": {
    "colab": {
     "base_uri": "https://localhost:8080/",
     "height": 206
    },
    "id": "mYm1SCzYHKgk",
    "outputId": "cf319f6f-209d-468d-bc2b-ff316a466759"
   },
   "outputs": [
    {
     "data": {
      "text/html": [
       "<div>\n",
       "<style scoped>\n",
       "    .dataframe tbody tr th:only-of-type {\n",
       "        vertical-align: middle;\n",
       "    }\n",
       "\n",
       "    .dataframe tbody tr th {\n",
       "        vertical-align: top;\n",
       "    }\n",
       "\n",
       "    .dataframe thead th {\n",
       "        text-align: right;\n",
       "    }\n",
       "</style>\n",
       "<table border=\"1\" class=\"dataframe\">\n",
       "  <thead>\n",
       "    <tr style=\"text-align: right;\">\n",
       "      <th></th>\n",
       "      <th>CloseGOOGL</th>\n",
       "      <th>HighGOOGL</th>\n",
       "      <th>LowGOOGL</th>\n",
       "      <th>OpenGOOGL</th>\n",
       "      <th>VolumeGOOGL</th>\n",
       "      <th>Date</th>\n",
       "    </tr>\n",
       "  </thead>\n",
       "  <tbody>\n",
       "    <tr>\n",
       "      <th>0</th>\n",
       "      <td>184.675415</td>\n",
       "      <td>189.939906</td>\n",
       "      <td>184.187772</td>\n",
       "      <td>188.934781</td>\n",
       "      <td>25625800</td>\n",
       "      <td>2024-07-11</td>\n",
       "    </tr>\n",
       "    <tr>\n",
       "      <th>1</th>\n",
       "      <td>184.177841</td>\n",
       "      <td>186.208000</td>\n",
       "      <td>183.600635</td>\n",
       "      <td>184.187788</td>\n",
       "      <td>22898400</td>\n",
       "      <td>2024-07-12</td>\n",
       "    </tr>\n",
       "    <tr>\n",
       "      <th>2</th>\n",
       "      <td>185.630768</td>\n",
       "      <td>187.332531</td>\n",
       "      <td>184.028529</td>\n",
       "      <td>184.028529</td>\n",
       "      <td>16474000</td>\n",
       "      <td>2024-07-15</td>\n",
       "    </tr>\n",
       "    <tr>\n",
       "      <th>3</th>\n",
       "      <td>183.033356</td>\n",
       "      <td>187.770403</td>\n",
       "      <td>182.486004</td>\n",
       "      <td>186.456775</td>\n",
       "      <td>18290700</td>\n",
       "      <td>2024-07-16</td>\n",
       "    </tr>\n",
       "    <tr>\n",
       "      <th>4</th>\n",
       "      <td>180.147339</td>\n",
       "      <td>182.665141</td>\n",
       "      <td>179.032728</td>\n",
       "      <td>182.087935</td>\n",
       "      <td>20734100</td>\n",
       "      <td>2024-07-17</td>\n",
       "    </tr>\n",
       "  </tbody>\n",
       "</table>\n",
       "</div>"
      ],
      "text/plain": [
       "   CloseGOOGL   HighGOOGL    LowGOOGL   OpenGOOGL  VolumeGOOGL       Date\n",
       "0  184.675415  189.939906  184.187772  188.934781     25625800 2024-07-11\n",
       "1  184.177841  186.208000  183.600635  184.187788     22898400 2024-07-12\n",
       "2  185.630768  187.332531  184.028529  184.028529     16474000 2024-07-15\n",
       "3  183.033356  187.770403  182.486004  186.456775     18290700 2024-07-16\n",
       "4  180.147339  182.665141  179.032728  182.087935     20734100 2024-07-17"
      ]
     },
     "metadata": {},
     "output_type": "display_data"
    }
   ],
   "source": [
    "# Display the first few rows of the DataFrame after flattening column names\n",
    "display(df.head())"
   ]
  },
  {
   "cell_type": "code",
   "execution_count": 37,
   "metadata": {
    "colab": {
     "base_uri": "https://localhost:8080/",
     "height": 206
    },
    "id": "BdYmC8n_I_SV",
    "outputId": "e969bcfb-24bd-4138-ee83-554ea4fafb78"
   },
   "outputs": [
    {
     "data": {
      "text/html": [
       "<div>\n",
       "<style scoped>\n",
       "    .dataframe tbody tr th:only-of-type {\n",
       "        vertical-align: middle;\n",
       "    }\n",
       "\n",
       "    .dataframe tbody tr th {\n",
       "        vertical-align: top;\n",
       "    }\n",
       "\n",
       "    .dataframe thead th {\n",
       "        text-align: right;\n",
       "    }\n",
       "</style>\n",
       "<table border=\"1\" class=\"dataframe\">\n",
       "  <thead>\n",
       "    <tr style=\"text-align: right;\">\n",
       "      <th></th>\n",
       "      <th>Date</th>\n",
       "      <th>CloseGOOGL</th>\n",
       "    </tr>\n",
       "  </thead>\n",
       "  <tbody>\n",
       "    <tr>\n",
       "      <th>0</th>\n",
       "      <td>2024-07-11</td>\n",
       "      <td>184.675415</td>\n",
       "    </tr>\n",
       "    <tr>\n",
       "      <th>1</th>\n",
       "      <td>2024-07-12</td>\n",
       "      <td>184.177841</td>\n",
       "    </tr>\n",
       "    <tr>\n",
       "      <th>2</th>\n",
       "      <td>2024-07-15</td>\n",
       "      <td>185.630768</td>\n",
       "    </tr>\n",
       "    <tr>\n",
       "      <th>3</th>\n",
       "      <td>2024-07-16</td>\n",
       "      <td>183.033356</td>\n",
       "    </tr>\n",
       "    <tr>\n",
       "      <th>4</th>\n",
       "      <td>2024-07-17</td>\n",
       "      <td>180.147339</td>\n",
       "    </tr>\n",
       "  </tbody>\n",
       "</table>\n",
       "</div>"
      ],
      "text/plain": [
       "        Date  CloseGOOGL\n",
       "0 2024-07-11  184.675415\n",
       "1 2024-07-12  184.177841\n",
       "2 2024-07-15  185.630768\n",
       "3 2024-07-16  183.033356\n",
       "4 2024-07-17  180.147339"
      ]
     },
     "metadata": {},
     "output_type": "display_data"
    }
   ],
   "source": [
    "# Select only the 'Date' and 'Close' columns\n",
    "df = df[['Date','CloseGOOGL']]\n",
    "# Display the first few rows of the filtered DataFrame\n",
    "display(df.head())"
   ]
  },
  {
   "cell_type": "code",
   "execution_count": 38,
   "metadata": {
    "colab": {
     "base_uri": "https://localhost:8080/",
     "height": 35
    },
    "id": "N4WNNI7SJOC8",
    "outputId": "b903c106-050d-4a0e-9aa2-c1c1870b6c84"
   },
   "outputs": [
    {
     "data": {
      "text/plain": [
       "(250, 2)"
      ]
     },
     "metadata": {},
     "output_type": "display_data"
    }
   ],
   "source": [
    "# Display the shape (number of rows and columns) of the DataFrame\n",
    "display(df.shape)"
   ]
  },
  {
   "cell_type": "code",
   "execution_count": 39,
   "metadata": {
    "colab": {
     "base_uri": "https://localhost:8080/",
     "height": 542
    },
    "id": "YQBYVwt7UuFi",
    "outputId": "8b19a2a3-e165-4fc0-967a-f47ac753218f"
   },
   "outputs": [],
   "source": [
    "# Create a line plot of the 'CloseGOOGL' price over time using Plotly Express\n",
    "fig = px.line(df, x='Date', y='CloseGOOGL', title='Time Series Data')\n",
    "# Display the plot\n",
    "# fig.show()"
   ]
  },
  {
   "cell_type": "code",
   "execution_count": 40,
   "metadata": {
    "id": "oVxLF7pdQQA-"
   },
   "outputs": [],
   "source": [
    "# Define a function to check for stationarity using the Augmented Dickey-Fuller test\n",
    "from statsmodels.tsa.stattools import adfuller\n",
    "\n",
    "def check_stationarity(df):\n",
    "    # Perform the ADF test\n",
    "    result = adfuller(df)\n",
    "    # Print the ADF statistic and p-value\n",
    "    print('ADF Statistic: %f' % result[0])\n",
    "    print('p-value: %f' % result[1])\n",
    "    # Check the p-value to determine stationarity\n",
    "    if result[1] <= 0.05:\n",
    "        print('Reject the null hypothesis. data is stationary')\n",
    "    else:\n",
    "        print('Fail to reject the null hypothesis.Data is not stationary')"
   ]
  },
  {
   "cell_type": "code",
   "execution_count": 41,
   "metadata": {
    "colab": {
     "base_uri": "https://localhost:8080/"
    },
    "id": "n44VHYnZRog_",
    "outputId": "298c49d8-a482-4e70-fc0c-9ee5cf132348"
   },
   "outputs": [
    {
     "name": "stdout",
     "output_type": "stream",
     "text": [
      "ADF Statistic: -1.741622\n",
      "p-value: 0.409805\n",
      "Fail to reject the null hypothesis.Data is not stationary\n"
     ]
    }
   ],
   "source": [
    "# Check the stationarity of the 'CloseGOOGL' column using the defined function\n",
    "check_stationarity(df['CloseGOOGL'])"
   ]
  },
  {
   "cell_type": "code",
   "execution_count": 42,
   "metadata": {
    "colab": {
     "base_uri": "https://localhost:8080/",
     "height": 487
    },
    "id": "c6kcrzMmSePQ",
    "outputId": "f2ce21a7-0168-4716-dd9e-0481ea148cae"
   },
   "outputs": [
    {
     "data": {
      "image/png": "[encoded data removed]",
      "text/plain": [
       "<Figure size 640x480 with 4 Axes>"
      ]
     },
     "metadata": {},
     "output_type": "display_data"
    }
   ],
   "source": [
    "# Perform seasonal decomposition on the 'CloseGOOGL' column\n",
    "from statsmodels.tsa.seasonal import seasonal_decompose\n",
    "# Model='additive' assumes the components add up to the observed series.\n",
    "# Period=30 assumes a seasonality of 30 days (e.g., monthly).\n",
    "decompose = seasonal_decompose(df['CloseGOOGL'], model='additive', period=30)\n",
    "# Plot the decomposed components (trend, seasonal, residual)\n",
    "decompose.plot()\n",
    "# Display the plot\n",
    "plt.show()"
   ]
  },
  {
   "cell_type": "code",
   "execution_count": 43,
   "metadata": {
    "colab": {
     "base_uri": "https://localhost:8080/",
     "height": 487
    },
    "id": "T6Yyfw3MSeMP",
    "outputId": "e8376887-c086-47fc-c3f3-15f377640420"
   },
   "outputs": [
    {
     "data": {
      "image/png": "[encoded data removed]",
      "text/plain": [
       "<Figure size 640x480 with 6 Axes>"
      ]
     },
     "metadata": {},
     "output_type": "display_data"
    }
   ],
   "source": [
    "# Import functions for plotting autocorrelation and partial autocorrelation plots\n",
    "from statsmodels.graphics.tsaplots import plot_acf, plot_pacf\n",
    "\n",
    "# Create subplots for displaying original series and differenced series with their ACF plots\n",
    "fig, axes = plt.subplots(3, 2, sharex=True)\n",
    "\n",
    "# Plot the original series and its ACF\n",
    "axes[0, 0].plot(df['CloseGOOGL'])\n",
    "axes[0, 0].set_title('Original Series')\n",
    "plot_acf(df['CloseGOOGL'], ax=axes[0, 1])\n",
    "\n",
    "# Plot the 1st order differenced series and its ACF\n",
    "axes[1, 0].plot(df['CloseGOOGL'].diff())\n",
    "axes[1, 0].set_title('1st Order Differencing')\n",
    "plot_acf(df['CloseGOOGL'].diff().dropna(), ax=axes[1, 1])\n",
    "\n",
    "# Plot the 2nd order differenced series and its ACF\n",
    "axes[2, 0].plot(df['CloseGOOGL'].diff().diff())\n",
    "axes[2, 0].set_title('2nd Order Differencing')\n",
    "plot_acf(df['CloseGOOGL'].diff().diff().dropna(), ax=axes[2, 1])\n",
    "\n",
    "# Adjust layout to prevent overlapping titles and labels\n",
    "plt.tight_layout()\n",
    "# Display the plots\n",
    "plt.show()"
   ]
  },
  {
   "cell_type": "code",
   "execution_count": 44,
   "metadata": {
    "colab": {
     "base_uri": "https://localhost:8080/",
     "height": 206
    },
    "id": "qWE8W7J6SeJq",
    "outputId": "82585294-7df1-4478-b3d5-078b9cf0057e"
   },
   "outputs": [
    {
     "data": {
      "text/html": [
       "<div>\n",
       "<style scoped>\n",
       "    .dataframe tbody tr th:only-of-type {\n",
       "        vertical-align: middle;\n",
       "    }\n",
       "\n",
       "    .dataframe tbody tr th {\n",
       "        vertical-align: top;\n",
       "    }\n",
       "\n",
       "    .dataframe thead th {\n",
       "        text-align: right;\n",
       "    }\n",
       "</style>\n",
       "<table border=\"1\" class=\"dataframe\">\n",
       "  <thead>\n",
       "    <tr style=\"text-align: right;\">\n",
       "      <th></th>\n",
       "      <th>Date</th>\n",
       "      <th>CloseGOOGL</th>\n",
       "      <th>CloseGOOGL_diff</th>\n",
       "    </tr>\n",
       "  </thead>\n",
       "  <tbody>\n",
       "    <tr>\n",
       "      <th>0</th>\n",
       "      <td>2024-07-11</td>\n",
       "      <td>184.675415</td>\n",
       "      <td>NaN</td>\n",
       "    </tr>\n",
       "    <tr>\n",
       "      <th>1</th>\n",
       "      <td>2024-07-12</td>\n",
       "      <td>184.177841</td>\n",
       "      <td>-0.497574</td>\n",
       "    </tr>\n",
       "    <tr>\n",
       "      <th>2</th>\n",
       "      <td>2024-07-15</td>\n",
       "      <td>185.630768</td>\n",
       "      <td>1.452927</td>\n",
       "    </tr>\n",
       "    <tr>\n",
       "      <th>3</th>\n",
       "      <td>2024-07-16</td>\n",
       "      <td>183.033356</td>\n",
       "      <td>-2.597412</td>\n",
       "    </tr>\n",
       "    <tr>\n",
       "      <th>4</th>\n",
       "      <td>2024-07-17</td>\n",
       "      <td>180.147339</td>\n",
       "      <td>-2.886017</td>\n",
       "    </tr>\n",
       "  </tbody>\n",
       "</table>\n",
       "</div>"
      ],
      "text/plain": [
       "        Date  CloseGOOGL  CloseGOOGL_diff\n",
       "0 2024-07-11  184.675415              NaN\n",
       "1 2024-07-12  184.177841        -0.497574\n",
       "2 2024-07-15  185.630768         1.452927\n",
       "3 2024-07-16  183.033356        -2.597412\n",
       "4 2024-07-17  180.147339        -2.886017"
      ]
     },
     "metadata": {},
     "output_type": "display_data"
    }
   ],
   "source": [
    "# Calculate the 1st order differencing of the 'CloseGOOGL' column\n",
    "df['CloseGOOGL_diff'] = df['CloseGOOGL'].diff()\n",
    "# Display the first few rows of the DataFrame with the new differenced column\n",
    "display(df.head())"
   ]
  },
  {
   "cell_type": "code",
   "execution_count": 45,
   "metadata": {
    "colab": {
     "base_uri": "https://localhost:8080/"
    },
    "id": "6v8-B6ShSeDQ",
    "outputId": "65161619-5c9a-4c29-eecd-c0fc4253a9b5"
   },
   "outputs": [
    {
     "name": "stdout",
     "output_type": "stream",
     "text": [
      "ADF Statistic: -9.719105\n",
      "p-value: 0.000000\n",
      "Reject the null hypothesis. data is stationary\n"
     ]
    }
   ],
   "source": [
    "# Check the stationarity of the 1st order differenced 'CloseGOOGL' column\n",
    "check_stationarity(df['CloseGOOGL_diff'].dropna())"
   ]
  },
  {
   "cell_type": "code",
   "execution_count": 46,
   "metadata": {
    "colab": {
     "base_uri": "https://localhost:8080/",
     "height": 206
    },
    "id": "x_rMLz_ISd4d",
    "outputId": "bf04e1a5-8624-4058-c9a9-2bb58da49f7a"
   },
   "outputs": [
    {
     "data": {
      "text/html": [
       "<div>\n",
       "<style scoped>\n",
       "    .dataframe tbody tr th:only-of-type {\n",
       "        vertical-align: middle;\n",
       "    }\n",
       "\n",
       "    .dataframe tbody tr th {\n",
       "        vertical-align: top;\n",
       "    }\n",
       "\n",
       "    .dataframe thead th {\n",
       "        text-align: right;\n",
       "    }\n",
       "</style>\n",
       "<table border=\"1\" class=\"dataframe\">\n",
       "  <thead>\n",
       "    <tr style=\"text-align: right;\">\n",
       "      <th></th>\n",
       "      <th>Date</th>\n",
       "      <th>CloseGOOGL</th>\n",
       "      <th>CloseGOOGL_diff</th>\n",
       "      <th>CloseGOOGL_diff2</th>\n",
       "    </tr>\n",
       "  </thead>\n",
       "  <tbody>\n",
       "    <tr>\n",
       "      <th>0</th>\n",
       "      <td>2024-07-11</td>\n",
       "      <td>184.675415</td>\n",
       "      <td>NaN</td>\n",
       "      <td>NaN</td>\n",
       "    </tr>\n",
       "    <tr>\n",
       "      <th>1</th>\n",
       "      <td>2024-07-12</td>\n",
       "      <td>184.177841</td>\n",
       "      <td>-0.497574</td>\n",
       "      <td>NaN</td>\n",
       "    </tr>\n",
       "    <tr>\n",
       "      <th>2</th>\n",
       "      <td>2024-07-15</td>\n",
       "      <td>185.630768</td>\n",
       "      <td>1.452927</td>\n",
       "      <td>1.950500</td>\n",
       "    </tr>\n",
       "    <tr>\n",
       "      <th>3</th>\n",
       "      <td>2024-07-16</td>\n",
       "      <td>183.033356</td>\n",
       "      <td>-2.597412</td>\n",
       "      <td>-4.050339</td>\n",
       "    </tr>\n",
       "    <tr>\n",
       "      <th>4</th>\n",
       "      <td>2024-07-17</td>\n",
       "      <td>180.147339</td>\n",
       "      <td>-2.886017</td>\n",
       "      <td>-0.288605</td>\n",
       "    </tr>\n",
       "  </tbody>\n",
       "</table>\n",
       "</div>"
      ],
      "text/plain": [
       "        Date  CloseGOOGL  CloseGOOGL_diff  CloseGOOGL_diff2\n",
       "0 2024-07-11  184.675415              NaN               NaN\n",
       "1 2024-07-12  184.177841        -0.497574               NaN\n",
       "2 2024-07-15  185.630768         1.452927          1.950500\n",
       "3 2024-07-16  183.033356        -2.597412         -4.050339\n",
       "4 2024-07-17  180.147339        -2.886017         -0.288605"
      ]
     },
     "metadata": {},
     "output_type": "display_data"
    }
   ],
   "source": [
    "# Calculate the 2nd order differencing of the 'CloseGOOGL' column\n",
    "df['CloseGOOGL_diff2'] = df['CloseGOOGL'].diff().diff()\n",
    "# Display the first few rows of the DataFrame with the new 2nd order differenced column\n",
    "display(df.head())"
   ]
  },
  {
   "cell_type": "markdown",
   "metadata": {
    "id": "yiFbmInPlA9n"
   },
   "source": [
    "d=1\n",
    "\n",
    "#**Lets find p value**"
   ]
  },
  {
   "cell_type": "code",
   "execution_count": 47,
   "metadata": {
    "colab": {
     "base_uri": "https://localhost:8080/",
     "height": 1000
    },
    "id": "Vzed0jDPk1bH",
    "outputId": "0810d466-313a-4551-dbc1-b9475488bf64"
   },
   "outputs": [
    {
     "data": {
      "image/png": "[encoded data removed]",
      "text/plain": [
       "<Figure size 640x480 with 1 Axes>"
      ]
     },
     "metadata": {},
     "output_type": "display_data"
    },
    {
     "data": {
      "image/png": "[encoded data removed]",
      "text/plain": [
       "<Figure size 640x480 with 1 Axes>"
      ]
     },
     "metadata": {},
     "output_type": "display_data"
    },
    {
     "name": "stdout",
     "output_type": "stream",
     "text": [
      "           0\n",
      "0   1.000000\n",
      "1   0.962109\n",
      "2   0.922939\n",
      "3   0.881895\n",
      "4   0.851944\n",
      "5   0.831802\n",
      "6   0.813218\n",
      "7   0.791848\n",
      "8   0.766526\n",
      "9   0.737210\n",
      "10  0.708397\n",
      "11  0.687403\n",
      "12  0.668092\n",
      "13  0.650233\n",
      "14  0.628106\n",
      "15  0.603278\n",
      "16  0.571544\n",
      "17  0.545755\n",
      "18  0.526086\n",
      "19  0.504600\n",
      "20  0.492311\n",
      "21  0.476289\n",
      "22  0.463389\n",
      "23  0.446222\n"
     ]
    }
   ],
   "source": [
    "# plots\n",
    "from statsmodels.graphics.tsaplots import plot_acf, plot_pacf\n",
    "pd.plotting.autocorrelation_plot(df['CloseGOOGL'])\n",
    "\n",
    "plot_acf(df['CloseGOOGL'], alpha=0.05)\n",
    "\n",
    "# plot_pacf(df['CloseGOOGL'])\n",
    "plt.show()\n",
    "\n",
    "from statsmodels.tsa.stattools import acf, pacf\n",
    "x_acf = pd.DataFrame(acf(df['CloseGOOGL']))\n",
    "print(x_acf)"
   ]
  },
  {
   "cell_type": "markdown",
   "metadata": {
    "id": "E505pQOGnYYi"
   },
   "source": [
    "**P=2**\n",
    "\n",
    "# **Lets find q value**"
   ]
  },
  {
   "cell_type": "code",
   "execution_count": 48,
   "metadata": {
    "colab": {
     "base_uri": "https://localhost:8080/",
     "height": 452
    },
    "id": "X-rzsjQSnXNg",
    "outputId": "26712dfd-fee3-414f-8271-8c7a08d93b5c"
   },
   "outputs": [
    {
     "data": {
      "image/png": "[encoded data removed]",
      "text/plain": [
       "<Figure size 640x480 with 1 Axes>"
      ]
     },
     "metadata": {},
     "output_type": "display_data"
    }
   ],
   "source": [
    "from statsmodels.tsa.stattools import acf, pacf\n",
    "plot_pacf(df['CloseGOOGL'],lags=20, alpha=0.05)\n",
    "plt.show()"
   ]
  },
  {
   "cell_type": "markdown",
   "metadata": {
    "id": "HNWjJB4NoGNk"
   },
   "source": []
  },
  {
   "cell_type": "code",
   "execution_count": 49,
   "metadata": {
    "id": "_kGFMDfOoFZw"
   },
   "outputs": [],
   "source": [
    "p = 2\n",
    "d = 1\n",
    "q = 2"
   ]
  },
  {
   "cell_type": "code",
   "execution_count": null,
   "metadata": {
    "colab": {
     "base_uri": "https://localhost:8080/"
    },
    "id": "86c124c3",
    "outputId": "67cd08e0-b14f-4817-bfd7-15449c157a49"
   },
   "outputs": [
    {
     "name": "stdout",
     "output_type": "stream",
     "text": [
      "Requirement already satisfied: pmdarima in c:\\users\\hp\\anaconda3\\envs\\streamlit\\lib\\site-packages (2.0.4)\n",
      "Requirement already satisfied: joblib>=0.11 in c:\\users\\hp\\anaconda3\\envs\\streamlit\\lib\\site-packages (from pmdarima) (1.4.2)\n",
      "Requirement already satisfied: Cython!=0.29.18,!=0.29.31,>=0.29 in c:\\users\\hp\\anaconda3\\envs\\streamlit\\lib\\site-packages (from pmdarima) (3.1.2)\n",
      "Requirement already satisfied: numpy>=1.21.2 in c:\\users\\hp\\anaconda3\\envs\\streamlit\\lib\\site-packages (from pmdarima) (2.2.3)\n",
      "Requirement already satisfied: pandas>=0.19 in c:\\users\\hp\\anaconda3\\envs\\streamlit\\lib\\site-packages (from pmdarima) (2.2.3)\n",
      "Requirement already satisfied: scikit-learn>=0.22 in c:\\users\\hp\\anaconda3\\envs\\streamlit\\lib\\site-packages (from pmdarima) (1.6.1)\n",
      "Requirement already satisfied: scipy>=1.3.2 in c:\\users\\hp\\anaconda3\\envs\\streamlit\\lib\\site-packages (from pmdarima) (1.15.2)\n",
      "Requirement already satisfied: statsmodels>=0.13.2 in c:\\users\\hp\\anaconda3\\envs\\streamlit\\lib\\site-packages (from pmdarima) (0.14.4)\n",
      "Requirement already satisfied: urllib3 in c:\\users\\hp\\anaconda3\\envs\\streamlit\\lib\\site-packages (from pmdarima) (2.3.0)\n",
      "Requirement already satisfied: setuptools!=50.0.0,>=38.6.0 in c:\\users\\hp\\anaconda3\\envs\\streamlit\\lib\\site-packages (from pmdarima) (80.9.0)\n",
      "Requirement already satisfied: packaging>=17.1 in c:\\users\\hp\\anaconda3\\envs\\streamlit\\lib\\site-packages (from pmdarima) (24.2)\n",
      "Requirement already satisfied: python-dateutil>=2.8.2 in c:\\users\\hp\\anaconda3\\envs\\streamlit\\lib\\site-packages (from pandas>=0.19->pmdarima) (2.9.0.post0)\n",
      "Requirement already satisfied: pytz>=2020.1 in c:\\users\\hp\\anaconda3\\envs\\streamlit\\lib\\site-packages (from pandas>=0.19->pmdarima) (2025.1)\n",
      "Requirement already satisfied: tzdata>=2022.7 in c:\\users\\hp\\anaconda3\\envs\\streamlit\\lib\\site-packages (from pandas>=0.19->pmdarima) (2025.1)\n",
      "Requirement already satisfied: six>=1.5 in c:\\users\\hp\\anaconda3\\envs\\streamlit\\lib\\site-packages (from python-dateutil>=2.8.2->pandas>=0.19->pmdarima) (1.17.0)\n",
      "Requirement already satisfied: threadpoolctl>=3.1.0 in c:\\users\\hp\\anaconda3\\envs\\streamlit\\lib\\site-packages (from scikit-learn>=0.22->pmdarima) (3.5.0)\n",
      "Requirement already satisfied: patsy>=0.5.6 in c:\\users\\hp\\anaconda3\\envs\\streamlit\\lib\\site-packages (from statsmodels>=0.13.2->pmdarima) (1.0.1)\n"
     ]
    }
   ],
   "source": [
    "!pip install pmdarima"
   ]
  },
  {
   "cell_type": "code",
   "execution_count": 55,
   "metadata": {
    "colab": {
     "base_uri": "https://localhost:8080/",
     "height": 389
    },
    "id": "HYX_4uXwoOug",
    "outputId": "fe4a1332-39f5-4ca2-974a-912f5cb545f0"
   },
   "outputs": [
    {
     "name": "stderr",
     "output_type": "stream",
     "text": [
      "c:\\Users\\hp\\anaconda3\\envs\\streamlit\\Lib\\site-packages\\sklearn\\utils\\deprecation.py:132: FutureWarning:\n",
      "\n",
      "'force_all_finite' was renamed to 'ensure_all_finite' in 1.6 and will be removed in 1.8.\n",
      "\n",
      "c:\\Users\\hp\\anaconda3\\envs\\streamlit\\Lib\\site-packages\\sklearn\\utils\\deprecation.py:132: FutureWarning:\n",
      "\n",
      "'force_all_finite' was renamed to 'ensure_all_finite' in 1.6 and will be removed in 1.8.\n",
      "\n"
     ]
    },
    {
     "name": "stdout",
     "output_type": "stream",
     "text": [
      "Performing stepwise search to minimize aic\n",
      " ARIMA(1,1,1)(0,1,1)[12]             : AIC=1301.468, Time=0.61 sec\n",
      " ARIMA(0,1,0)(0,1,0)[12]             : AIC=1432.046, Time=0.05 sec\n"
     ]
    },
    {
     "name": "stderr",
     "output_type": "stream",
     "text": [
      "c:\\Users\\hp\\anaconda3\\envs\\streamlit\\Lib\\site-packages\\sklearn\\utils\\deprecation.py:132: FutureWarning:\n",
      "\n",
      "'force_all_finite' was renamed to 'ensure_all_finite' in 1.6 and will be removed in 1.8.\n",
      "\n",
      "c:\\Users\\hp\\anaconda3\\envs\\streamlit\\Lib\\site-packages\\sklearn\\utils\\deprecation.py:132: FutureWarning:\n",
      "\n",
      "'force_all_finite' was renamed to 'ensure_all_finite' in 1.6 and will be removed in 1.8.\n",
      "\n"
     ]
    },
    {
     "name": "stdout",
     "output_type": "stream",
     "text": [
      " ARIMA(1,1,0)(1,1,0)[12]             : AIC=1340.707, Time=0.19 sec\n"
     ]
    },
    {
     "name": "stderr",
     "output_type": "stream",
     "text": [
      "c:\\Users\\hp\\anaconda3\\envs\\streamlit\\Lib\\site-packages\\sklearn\\utils\\deprecation.py:132: FutureWarning:\n",
      "\n",
      "'force_all_finite' was renamed to 'ensure_all_finite' in 1.6 and will be removed in 1.8.\n",
      "\n"
     ]
    },
    {
     "name": "stdout",
     "output_type": "stream",
     "text": [
      " ARIMA(0,1,1)(0,1,1)[12]             : AIC=1299.514, Time=0.38 sec\n",
      " ARIMA(0,1,1)(0,1,0)[12]             : AIC=1434.017, Time=0.08 sec\n"
     ]
    },
    {
     "name": "stderr",
     "output_type": "stream",
     "text": [
      "c:\\Users\\hp\\anaconda3\\envs\\streamlit\\Lib\\site-packages\\sklearn\\utils\\deprecation.py:132: FutureWarning:\n",
      "\n",
      "'force_all_finite' was renamed to 'ensure_all_finite' in 1.6 and will be removed in 1.8.\n",
      "\n",
      "c:\\Users\\hp\\anaconda3\\envs\\streamlit\\Lib\\site-packages\\sklearn\\utils\\deprecation.py:132: FutureWarning:\n",
      "\n",
      "'force_all_finite' was renamed to 'ensure_all_finite' in 1.6 and will be removed in 1.8.\n",
      "\n"
     ]
    },
    {
     "name": "stdout",
     "output_type": "stream",
     "text": [
      " ARIMA(0,1,1)(1,1,1)[12]             : AIC=1299.568, Time=0.59 sec\n"
     ]
    },
    {
     "name": "stderr",
     "output_type": "stream",
     "text": [
      "c:\\Users\\hp\\anaconda3\\envs\\streamlit\\Lib\\site-packages\\sklearn\\utils\\deprecation.py:132: FutureWarning:\n",
      "\n",
      "'force_all_finite' was renamed to 'ensure_all_finite' in 1.6 and will be removed in 1.8.\n",
      "\n"
     ]
    },
    {
     "name": "stdout",
     "output_type": "stream",
     "text": [
      " ARIMA(0,1,1)(0,1,2)[12]             : AIC=1299.944, Time=1.38 sec\n"
     ]
    },
    {
     "name": "stderr",
     "output_type": "stream",
     "text": [
      "c:\\Users\\hp\\anaconda3\\envs\\streamlit\\Lib\\site-packages\\sklearn\\utils\\deprecation.py:132: FutureWarning:\n",
      "\n",
      "'force_all_finite' was renamed to 'ensure_all_finite' in 1.6 and will be removed in 1.8.\n",
      "\n"
     ]
    },
    {
     "name": "stdout",
     "output_type": "stream",
     "text": [
      " ARIMA(0,1,1)(1,1,0)[12]             : AIC=1340.725, Time=0.28 sec\n"
     ]
    },
    {
     "name": "stderr",
     "output_type": "stream",
     "text": [
      "c:\\Users\\hp\\anaconda3\\envs\\streamlit\\Lib\\site-packages\\sklearn\\utils\\deprecation.py:132: FutureWarning:\n",
      "\n",
      "'force_all_finite' was renamed to 'ensure_all_finite' in 1.6 and will be removed in 1.8.\n",
      "\n"
     ]
    },
    {
     "name": "stdout",
     "output_type": "stream",
     "text": [
      " ARIMA(0,1,1)(1,1,2)[12]             : AIC=1299.524, Time=2.85 sec\n"
     ]
    },
    {
     "name": "stderr",
     "output_type": "stream",
     "text": [
      "c:\\Users\\hp\\anaconda3\\envs\\streamlit\\Lib\\site-packages\\sklearn\\utils\\deprecation.py:132: FutureWarning:\n",
      "\n",
      "'force_all_finite' was renamed to 'ensure_all_finite' in 1.6 and will be removed in 1.8.\n",
      "\n"
     ]
    },
    {
     "name": "stdout",
     "output_type": "stream",
     "text": [
      " ARIMA(0,1,0)(0,1,1)[12]             : AIC=1297.656, Time=0.23 sec\n"
     ]
    },
    {
     "name": "stderr",
     "output_type": "stream",
     "text": [
      "c:\\Users\\hp\\anaconda3\\envs\\streamlit\\Lib\\site-packages\\sklearn\\utils\\deprecation.py:132: FutureWarning:\n",
      "\n",
      "'force_all_finite' was renamed to 'ensure_all_finite' in 1.6 and will be removed in 1.8.\n",
      "\n"
     ]
    },
    {
     "name": "stdout",
     "output_type": "stream",
     "text": [
      " ARIMA(0,1,0)(1,1,1)[12]             : AIC=1297.784, Time=0.36 sec\n"
     ]
    },
    {
     "name": "stderr",
     "output_type": "stream",
     "text": [
      "c:\\Users\\hp\\anaconda3\\envs\\streamlit\\Lib\\site-packages\\sklearn\\utils\\deprecation.py:132: FutureWarning:\n",
      "\n",
      "'force_all_finite' was renamed to 'ensure_all_finite' in 1.6 and will be removed in 1.8.\n",
      "\n"
     ]
    },
    {
     "name": "stdout",
     "output_type": "stream",
     "text": [
      " ARIMA(0,1,0)(0,1,2)[12]             : AIC=1298.164, Time=0.84 sec\n",
      " ARIMA(0,1,0)(1,1,0)[12]             : AIC=1339.221, Time=0.12 sec\n"
     ]
    },
    {
     "name": "stderr",
     "output_type": "stream",
     "text": [
      "c:\\Users\\hp\\anaconda3\\envs\\streamlit\\Lib\\site-packages\\sklearn\\utils\\deprecation.py:132: FutureWarning:\n",
      "\n",
      "'force_all_finite' was renamed to 'ensure_all_finite' in 1.6 and will be removed in 1.8.\n",
      "\n",
      "c:\\Users\\hp\\anaconda3\\envs\\streamlit\\Lib\\site-packages\\sklearn\\utils\\deprecation.py:132: FutureWarning:\n",
      "\n",
      "'force_all_finite' was renamed to 'ensure_all_finite' in 1.6 and will be removed in 1.8.\n",
      "\n"
     ]
    },
    {
     "name": "stdout",
     "output_type": "stream",
     "text": [
      " ARIMA(0,1,0)(1,1,2)[12]             : AIC=1297.636, Time=1.51 sec\n"
     ]
    },
    {
     "name": "stderr",
     "output_type": "stream",
     "text": [
      "c:\\Users\\hp\\anaconda3\\envs\\streamlit\\Lib\\site-packages\\sklearn\\utils\\deprecation.py:132: FutureWarning:\n",
      "\n",
      "'force_all_finite' was renamed to 'ensure_all_finite' in 1.6 and will be removed in 1.8.\n",
      "\n"
     ]
    },
    {
     "name": "stdout",
     "output_type": "stream",
     "text": [
      " ARIMA(0,1,0)(2,1,2)[12]             : AIC=1299.590, Time=3.30 sec\n"
     ]
    },
    {
     "name": "stderr",
     "output_type": "stream",
     "text": [
      "c:\\Users\\hp\\anaconda3\\envs\\streamlit\\Lib\\site-packages\\sklearn\\utils\\deprecation.py:132: FutureWarning:\n",
      "\n",
      "'force_all_finite' was renamed to 'ensure_all_finite' in 1.6 and will be removed in 1.8.\n",
      "\n"
     ]
    },
    {
     "name": "stdout",
     "output_type": "stream",
     "text": [
      " ARIMA(0,1,0)(2,1,1)[12]             : AIC=inf, Time=1.48 sec\n"
     ]
    },
    {
     "name": "stderr",
     "output_type": "stream",
     "text": [
      "c:\\Users\\hp\\anaconda3\\envs\\streamlit\\Lib\\site-packages\\sklearn\\utils\\deprecation.py:132: FutureWarning:\n",
      "\n",
      "'force_all_finite' was renamed to 'ensure_all_finite' in 1.6 and will be removed in 1.8.\n",
      "\n"
     ]
    },
    {
     "name": "stdout",
     "output_type": "stream",
     "text": [
      " ARIMA(1,1,0)(1,1,2)[12]             : AIC=1299.514, Time=3.20 sec\n"
     ]
    },
    {
     "name": "stderr",
     "output_type": "stream",
     "text": [
      "c:\\Users\\hp\\anaconda3\\envs\\streamlit\\Lib\\site-packages\\sklearn\\utils\\deprecation.py:132: FutureWarning:\n",
      "\n",
      "'force_all_finite' was renamed to 'ensure_all_finite' in 1.6 and will be removed in 1.8.\n",
      "\n"
     ]
    },
    {
     "name": "stdout",
     "output_type": "stream",
     "text": [
      " ARIMA(1,1,1)(1,1,2)[12]             : AIC=1301.482, Time=3.85 sec\n"
     ]
    },
    {
     "name": "stderr",
     "output_type": "stream",
     "text": [
      "c:\\Users\\hp\\anaconda3\\envs\\streamlit\\Lib\\site-packages\\sklearn\\utils\\deprecation.py:132: FutureWarning:\n",
      "\n",
      "'force_all_finite' was renamed to 'ensure_all_finite' in 1.6 and will be removed in 1.8.\n",
      "\n"
     ]
    },
    {
     "name": "stdout",
     "output_type": "stream",
     "text": [
      " ARIMA(0,1,0)(1,1,2)[12] intercept   : AIC=1299.246, Time=2.16 sec\n",
      "\n",
      "Best model:  ARIMA(0,1,0)(1,1,2)[12]          \n",
      "Total fit time: 23.479 seconds\n"
     ]
    }
   ],
   "source": [
    "\n",
    "\n",
    "from pmdarima.arima import auto_arima\n",
    "\n",
    "model = auto_arima(df['CloseGOOGL'], start_p=1, start_q=1, max_p=2, max_q=2, m = 12, start_P=0, seasonal=True, d=1, D=1, trace= True, error_action='ignore', suppress_warnings=True )\n",
    "\n"
   ]
  },
  {
   "cell_type": "code",
   "execution_count": 56,
   "metadata": {},
   "outputs": [
    {
     "data": {
      "text/html": [
       "<table class=\"simpletable\">\n",
       "<caption>SARIMAX Results</caption>\n",
       "<tr>\n",
       "  <th>Dep. Variable:</th>                    <td>y</td>                  <th>  No. Observations:  </th>    <td>250</td>  \n",
       "</tr>\n",
       "<tr>\n",
       "  <th>Model:</th>           <td>SARIMAX(0, 1, 0)x(1, 1, [1, 2], 12)</td> <th>  Log Likelihood     </th> <td>-644.818</td>\n",
       "</tr>\n",
       "<tr>\n",
       "  <th>Date:</th>                     <td>Fri, 11 Jul 2025</td>           <th>  AIC                </th> <td>1297.636</td>\n",
       "</tr>\n",
       "<tr>\n",
       "  <th>Time:</th>                         <td>22:30:43</td>               <th>  BIC                </th> <td>1311.508</td>\n",
       "</tr>\n",
       "<tr>\n",
       "  <th>Sample:</th>                           <td>0</td>                  <th>  HQIC               </th> <td>1303.227</td>\n",
       "</tr>\n",
       "<tr>\n",
       "  <th></th>                               <td> - 250</td>                <th>                     </th>     <td> </td>   \n",
       "</tr>\n",
       "<tr>\n",
       "  <th>Covariance Type:</th>                 <td>opg</td>                 <th>                     </th>     <td> </td>   \n",
       "</tr>\n",
       "</table>\n",
       "<table class=\"simpletable\">\n",
       "<tr>\n",
       "      <td></td>        <th>coef</th>     <th>std err</th>      <th>z</th>      <th>P>|z|</th>  <th>[0.025</th>    <th>0.975]</th>  \n",
       "</tr>\n",
       "<tr>\n",
       "  <th>ar.S.L12</th> <td>   -0.8636</td> <td>    0.178</td> <td>   -4.844</td> <td> 0.000</td> <td>   -1.213</td> <td>   -0.514</td>\n",
       "</tr>\n",
       "<tr>\n",
       "  <th>ma.S.L12</th> <td>   -0.0626</td> <td>    0.212</td> <td>   -0.295</td> <td> 0.768</td> <td>   -0.478</td> <td>    0.353</td>\n",
       "</tr>\n",
       "<tr>\n",
       "  <th>ma.S.L24</th> <td>   -0.6844</td> <td>    0.202</td> <td>   -3.384</td> <td> 0.001</td> <td>   -1.081</td> <td>   -0.288</td>\n",
       "</tr>\n",
       "<tr>\n",
       "  <th>sigma2</th>   <td>   12.5543</td> <td>    0.864</td> <td>   14.525</td> <td> 0.000</td> <td>   10.860</td> <td>   14.248</td>\n",
       "</tr>\n",
       "</table>\n",
       "<table class=\"simpletable\">\n",
       "<tr>\n",
       "  <th>Ljung-Box (L1) (Q):</th>     <td>0.07</td> <th>  Jarque-Bera (JB):  </th> <td>54.80</td>\n",
       "</tr>\n",
       "<tr>\n",
       "  <th>Prob(Q):</th>                <td>0.79</td> <th>  Prob(JB):          </th> <td>0.00</td> \n",
       "</tr>\n",
       "<tr>\n",
       "  <th>Heteroskedasticity (H):</th> <td>2.15</td> <th>  Skew:              </th> <td>-0.36</td>\n",
       "</tr>\n",
       "<tr>\n",
       "  <th>Prob(H) (two-sided):</th>    <td>0.00</td> <th>  Kurtosis:          </th> <td>5.24</td> \n",
       "</tr>\n",
       "</table><br/><br/>Warnings:<br/>[1] Covariance matrix calculated using the outer product of gradients (complex-step)."
      ],
      "text/latex": [
       "\\begin{center}\n",
       "\\begin{tabular}{lclc}\n",
       "\\toprule\n",
       "\\textbf{Dep. Variable:}          &                  y                  & \\textbf{  No. Observations:  } &    250      \\\\\n",
       "\\textbf{Model:}                  & SARIMAX(0, 1, 0)x(1, 1, [1, 2], 12) & \\textbf{  Log Likelihood     } &  -644.818   \\\\\n",
       "\\textbf{Date:}                   &           Fri, 11 Jul 2025          & \\textbf{  AIC                } &  1297.636   \\\\\n",
       "\\textbf{Time:}                   &               22:30:43              & \\textbf{  BIC                } &  1311.508   \\\\\n",
       "\\textbf{Sample:}                 &                  0                  & \\textbf{  HQIC               } &  1303.227   \\\\\n",
       "\\textbf{}                        &                 - 250               & \\textbf{                     } &             \\\\\n",
       "\\textbf{Covariance Type:}        &                 opg                 & \\textbf{                     } &             \\\\\n",
       "\\bottomrule\n",
       "\\end{tabular}\n",
       "\\begin{tabular}{lcccccc}\n",
       "                  & \\textbf{coef} & \\textbf{std err} & \\textbf{z} & \\textbf{P$> |$z$|$} & \\textbf{[0.025} & \\textbf{0.975]}  \\\\\n",
       "\\midrule\n",
       "\\textbf{ar.S.L12} &      -0.8636  &        0.178     &    -4.844  &         0.000        &       -1.213    &       -0.514     \\\\\n",
       "\\textbf{ma.S.L12} &      -0.0626  &        0.212     &    -0.295  &         0.768        &       -0.478    &        0.353     \\\\\n",
       "\\textbf{ma.S.L24} &      -0.6844  &        0.202     &    -3.384  &         0.001        &       -1.081    &       -0.288     \\\\\n",
       "\\textbf{sigma2}   &      12.5543  &        0.864     &    14.525  &         0.000        &       10.860    &       14.248     \\\\\n",
       "\\bottomrule\n",
       "\\end{tabular}\n",
       "\\begin{tabular}{lclc}\n",
       "\\textbf{Ljung-Box (L1) (Q):}     & 0.07 & \\textbf{  Jarque-Bera (JB):  } & 54.80  \\\\\n",
       "\\textbf{Prob(Q):}                & 0.79 & \\textbf{  Prob(JB):          } &  0.00  \\\\\n",
       "\\textbf{Heteroskedasticity (H):} & 2.15 & \\textbf{  Skew:              } & -0.36  \\\\\n",
       "\\textbf{Prob(H) (two-sided):}    & 0.00 & \\textbf{  Kurtosis:          } &  5.24  \\\\\n",
       "\\bottomrule\n",
       "\\end{tabular}\n",
       "%\\caption{SARIMAX Results}\n",
       "\\end{center}\n",
       "\n",
       "Warnings: \\newline\n",
       " [1] Covariance matrix calculated using the outer product of gradients (complex-step)."
      ],
      "text/plain": [
       "<class 'statsmodels.iolib.summary.Summary'>\n",
       "\"\"\"\n",
       "                                        SARIMAX Results                                        \n",
       "===============================================================================================\n",
       "Dep. Variable:                                       y   No. Observations:                  250\n",
       "Model:             SARIMAX(0, 1, 0)x(1, 1, [1, 2], 12)   Log Likelihood                -644.818\n",
       "Date:                                 Fri, 11 Jul 2025   AIC                           1297.636\n",
       "Time:                                         22:30:43   BIC                           1311.508\n",
       "Sample:                                              0   HQIC                          1303.227\n",
       "                                                 - 250                                         \n",
       "Covariance Type:                                   opg                                         \n",
       "==============================================================================\n",
       "                 coef    std err          z      P>|z|      [0.025      0.975]\n",
       "------------------------------------------------------------------------------\n",
       "ar.S.L12      -0.8636      0.178     -4.844      0.000      -1.213      -0.514\n",
       "ma.S.L12      -0.0626      0.212     -0.295      0.768      -0.478       0.353\n",
       "ma.S.L24      -0.6844      0.202     -3.384      0.001      -1.081      -0.288\n",
       "sigma2        12.5543      0.864     14.525      0.000      10.860      14.248\n",
       "===================================================================================\n",
       "Ljung-Box (L1) (Q):                   0.07   Jarque-Bera (JB):                54.80\n",
       "Prob(Q):                              0.79   Prob(JB):                         0.00\n",
       "Heteroskedasticity (H):               2.15   Skew:                            -0.36\n",
       "Prob(H) (two-sided):                  0.00   Kurtosis:                         5.24\n",
       "===================================================================================\n",
       "\n",
       "Warnings:\n",
       "[1] Covariance matrix calculated using the outer product of gradients (complex-step).\n",
       "\"\"\""
      ]
     },
     "execution_count": 56,
     "metadata": {},
     "output_type": "execute_result"
    }
   ],
   "source": [
    "model.summary()"
   ]
  },
  {
   "cell_type": "code",
   "execution_count": 57,
   "metadata": {
    "colab": {
     "base_uri": "https://localhost:8080/",
     "height": 165
    },
    "id": "skYZfAYutAjY",
    "outputId": "e98c1b0a-423d-4aa3-988f-27496844c4ad"
   },
   "outputs": [
    {
     "name": "stderr",
     "output_type": "stream",
     "text": [
      "c:\\Users\\hp\\anaconda3\\envs\\streamlit\\Lib\\site-packages\\sklearn\\utils\\deprecation.py:132: FutureWarning:\n",
      "\n",
      "'force_all_finite' was renamed to 'ensure_all_finite' in 1.6 and will be removed in 1.8.\n",
      "\n",
      "c:\\Users\\hp\\anaconda3\\envs\\streamlit\\Lib\\site-packages\\sklearn\\utils\\deprecation.py:132: FutureWarning:\n",
      "\n",
      "'force_all_finite' was renamed to 'ensure_all_finite' in 1.6 and will be removed in 1.8.\n",
      "\n",
      "c:\\Users\\hp\\anaconda3\\envs\\streamlit\\Lib\\site-packages\\sklearn\\utils\\deprecation.py:132: FutureWarning:\n",
      "\n",
      "'force_all_finite' was renamed to 'ensure_all_finite' in 1.6 and will be removed in 1.8.\n",
      "\n",
      "c:\\Users\\hp\\anaconda3\\envs\\streamlit\\Lib\\site-packages\\sklearn\\utils\\deprecation.py:132: FutureWarning:\n",
      "\n",
      "'force_all_finite' was renamed to 'ensure_all_finite' in 1.6 and will be removed in 1.8.\n",
      "\n",
      "c:\\Users\\hp\\anaconda3\\envs\\streamlit\\Lib\\site-packages\\sklearn\\utils\\deprecation.py:132: FutureWarning:\n",
      "\n",
      "'force_all_finite' was renamed to 'ensure_all_finite' in 1.6 and will be removed in 1.8.\n",
      "\n",
      "c:\\Users\\hp\\anaconda3\\envs\\streamlit\\Lib\\site-packages\\sklearn\\utils\\deprecation.py:132: FutureWarning:\n",
      "\n",
      "'force_all_finite' was renamed to 'ensure_all_finite' in 1.6 and will be removed in 1.8.\n",
      "\n",
      "c:\\Users\\hp\\anaconda3\\envs\\streamlit\\Lib\\site-packages\\sklearn\\utils\\deprecation.py:132: FutureWarning:\n",
      "\n",
      "'force_all_finite' was renamed to 'ensure_all_finite' in 1.6 and will be removed in 1.8.\n",
      "\n",
      "c:\\Users\\hp\\anaconda3\\envs\\streamlit\\Lib\\site-packages\\sklearn\\utils\\deprecation.py:132: FutureWarning:\n",
      "\n",
      "'force_all_finite' was renamed to 'ensure_all_finite' in 1.6 and will be removed in 1.8.\n",
      "\n",
      "c:\\Users\\hp\\anaconda3\\envs\\streamlit\\Lib\\site-packages\\sklearn\\utils\\deprecation.py:132: FutureWarning:\n",
      "\n",
      "'force_all_finite' was renamed to 'ensure_all_finite' in 1.6 and will be removed in 1.8.\n",
      "\n",
      "c:\\Users\\hp\\anaconda3\\envs\\streamlit\\Lib\\site-packages\\sklearn\\utils\\deprecation.py:132: FutureWarning:\n",
      "\n",
      "'force_all_finite' was renamed to 'ensure_all_finite' in 1.6 and will be removed in 1.8.\n",
      "\n",
      "c:\\Users\\hp\\anaconda3\\envs\\streamlit\\Lib\\site-packages\\sklearn\\utils\\deprecation.py:132: FutureWarning:\n",
      "\n",
      "'force_all_finite' was renamed to 'ensure_all_finite' in 1.6 and will be removed in 1.8.\n",
      "\n",
      "c:\\Users\\hp\\anaconda3\\envs\\streamlit\\Lib\\site-packages\\sklearn\\utils\\deprecation.py:132: FutureWarning:\n",
      "\n",
      "'force_all_finite' was renamed to 'ensure_all_finite' in 1.6 and will be removed in 1.8.\n",
      "\n",
      "c:\\Users\\hp\\anaconda3\\envs\\streamlit\\Lib\\site-packages\\sklearn\\utils\\deprecation.py:132: FutureWarning:\n",
      "\n",
      "'force_all_finite' was renamed to 'ensure_all_finite' in 1.6 and will be removed in 1.8.\n",
      "\n",
      "c:\\Users\\hp\\anaconda3\\envs\\streamlit\\Lib\\site-packages\\sklearn\\utils\\deprecation.py:132: FutureWarning:\n",
      "\n",
      "'force_all_finite' was renamed to 'ensure_all_finite' in 1.6 and will be removed in 1.8.\n",
      "\n"
     ]
    }
   ],
   "source": [
    "model = auto_arima(df['CloseGOOGL'], seasonal=True, suppress_warnings=True)\n"
   ]
  },
  {
   "cell_type": "code",
   "execution_count": 58,
   "metadata": {},
   "outputs": [
    {
     "name": "stdout",
     "output_type": "stream",
     "text": [
      "                               SARIMAX Results                                \n",
      "==============================================================================\n",
      "Dep. Variable:                      y   No. Observations:                  250\n",
      "Model:               SARIMAX(1, 0, 0)   Log Likelihood                -661.986\n",
      "Date:                Fri, 11 Jul 2025   AIC                           1329.971\n",
      "Time:                        22:30:59   BIC                           1340.536\n",
      "Sample:                             0   HQIC                          1334.223\n",
      "                                - 250                                         \n",
      "Covariance Type:                  opg                                         \n",
      "==============================================================================\n",
      "                 coef    std err          z      P>|z|      [0.025      0.975]\n",
      "------------------------------------------------------------------------------\n",
      "intercept      6.2961      2.346      2.684      0.007       1.698      10.894\n",
      "ar.L1          0.9636      0.014     71.161      0.000       0.937       0.990\n",
      "sigma2        11.5587      0.744     15.540      0.000      10.101      13.017\n",
      "===================================================================================\n",
      "Ljung-Box (L1) (Q):                   0.38   Jarque-Bera (JB):                52.65\n",
      "Prob(Q):                              0.54   Prob(JB):                         0.00\n",
      "Heteroskedasticity (H):               2.04   Skew:                            -0.26\n",
      "Prob(H) (two-sided):                  0.00   Kurtosis:                         5.19\n",
      "===================================================================================\n",
      "\n",
      "Warnings:\n",
      "[1] Covariance matrix calculated using the outer product of gradients (complex-step).\n"
     ]
    }
   ],
   "source": [
    "print(model.summary())"
   ]
  },
  {
   "cell_type": "code",
   "execution_count": 59,
   "metadata": {},
   "outputs": [],
   "source": [
    "from statsmodels.tsa.arima.model import ARIMA\n",
    "\n",
    "p, d, q = 2, 1, 2\n",
    "\n",
    "model = ARIMA(df['CloseGOOGL'], order=(p, d, q))\n",
    "model = model.fit()\n"
   ]
  },
  {
   "cell_type": "code",
   "execution_count": 60,
   "metadata": {},
   "outputs": [
    {
     "name": "stdout",
     "output_type": "stream",
     "text": [
      "                               SARIMAX Results                                \n",
      "==============================================================================\n",
      "Dep. Variable:             CloseGOOGL   No. Observations:                  250\n",
      "Model:                 ARIMA(2, 1, 2)   Log Likelihood                -656.046\n",
      "Date:                Fri, 11 Jul 2025   AIC                           1322.093\n",
      "Time:                        22:31:12   BIC                           1339.680\n",
      "Sample:                             0   HQIC                          1329.172\n",
      "                                - 250                                         \n",
      "Covariance Type:                  opg                                         \n",
      "==============================================================================\n",
      "                 coef    std err          z      P>|z|      [0.025      0.975]\n",
      "------------------------------------------------------------------------------\n",
      "ar.L1          1.3770      0.040     34.827      0.000       1.300       1.455\n",
      "ar.L2         -0.9609      0.042    -22.711      0.000      -1.044      -0.878\n",
      "ma.L1         -1.3814      0.051    -27.325      0.000      -1.480      -1.282\n",
      "ma.L2          0.9283      0.055     16.931      0.000       0.821       1.036\n",
      "sigma2        11.3571      0.764     14.874      0.000       9.861      12.854\n",
      "===================================================================================\n",
      "Ljung-Box (L1) (Q):                   0.00   Jarque-Bera (JB):                53.90\n",
      "Prob(Q):                              0.98   Prob(JB):                         0.00\n",
      "Heteroskedasticity (H):               1.98   Skew:                            -0.32\n",
      "Prob(H) (two-sided):                  0.00   Kurtosis:                         5.19\n",
      "===================================================================================\n",
      "\n",
      "Warnings:\n",
      "[1] Covariance matrix calculated using the outer product of gradients (complex-step).\n"
     ]
    }
   ],
   "source": [
    "print(model.summary())"
   ]
  },
  {
   "cell_type": "code",
   "execution_count": 63,
   "metadata": {},
   "outputs": [
    {
     "name": "stdout",
     "output_type": "stream",
     "text": [
      "                               SARIMAX Results                                \n",
      "==============================================================================\n",
      "Dep. Variable:             CloseGOOGL   No. Observations:                  250\n",
      "Model:                 ARIMA(2, 1, 2)   Log Likelihood                -656.046\n",
      "Date:                Fri, 11 Jul 2025   AIC                           1322.093\n",
      "Time:                        22:40:41   BIC                           1339.680\n",
      "Sample:                             0   HQIC                          1329.172\n",
      "                                - 250                                         \n",
      "Covariance Type:                  opg                                         \n",
      "==============================================================================\n",
      "                 coef    std err          z      P>|z|      [0.025      0.975]\n",
      "------------------------------------------------------------------------------\n",
      "ar.L1          1.3770      0.040     34.827      0.000       1.300       1.455\n",
      "ar.L2         -0.9609      0.042    -22.711      0.000      -1.044      -0.878\n",
      "ma.L1         -1.3814      0.051    -27.325      0.000      -1.480      -1.282\n",
      "ma.L2          0.9283      0.055     16.931      0.000       0.821       1.036\n",
      "sigma2        11.3571      0.764     14.874      0.000       9.861      12.854\n",
      "===================================================================================\n",
      "Ljung-Box (L1) (Q):                   0.00   Jarque-Bera (JB):                53.90\n",
      "Prob(Q):                              0.98   Prob(JB):                         0.00\n",
      "Heteroskedasticity (H):               1.98   Skew:                            -0.32\n",
      "Prob(H) (two-sided):                  0.00   Kurtosis:                         5.19\n",
      "===================================================================================\n",
      "\n",
      "Warnings:\n",
      "[1] Covariance matrix calculated using the outer product of gradients (complex-step).\n"
     ]
    },
    {
     "data": {
      "text/plain": [
       "[<matplotlib.lines.Line2D at 0x1ddede94690>]"
      ]
     },
     "execution_count": 63,
     "metadata": {},
     "output_type": "execute_result"
    },
    {
     "data": {
      "image/png": "[encoded data removed]",
      "text/plain": [
       "<Figure size 1000x500 with 1 Axes>"
      ]
     },
     "metadata": {},
     "output_type": "display_data"
    }
   ],
   "source": [
    "from statsmodels.tsa.arima.model import ARIMA\n",
    "\n",
    "p, d, q = 2, 1, 2\n",
    "\n",
    "model = ARIMA(df['CloseGOOGL'], order=(p, d, q))\n",
    "model = model.fit()\n",
    "\n",
    "print(model.summary())\n",
    "\n",
    "forecast = model.predict(len(df['CloseGOOGL']), len(df['CloseGOOGL']) +30)\n",
    "# print(forecast)\n",
    "\n",
    "\n",
    "plt.figure(figsize=(10, 5))\n",
    "plt.plot(df['CloseGOOGL'], label='Actual')\n",
    "plt.plot(forecast, label='Forecast')\n"
   ]
  }
 ],
 "metadata": {
  "colab": {
   "provenance": []
  },
  "kernelspec": {
   "display_name": "streamlit",
   "language": "python",
   "name": "python3"
  },
  "language_info": {
   "codemirror_mode": {
    "name": "ipython",
    "version": 3
   },
   "file_extension": ".py",
   "mimetype": "text/x-python",
   "name": "python",
   "nbconvert_exporter": "python",
   "pygments_lexer": "ipython3",
   "version": "3.13.2"
  }
 },
 "nbformat": 4,
 "nbformat_minor": 0
}
